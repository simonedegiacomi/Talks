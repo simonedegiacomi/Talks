{
 "cells": [
  {
   "cell_type": "code",
   "execution_count": 10,
   "metadata": {},
   "outputs": [],
   "source": [
    "class Rectangle:\n",
    "\t# attributo statico\n",
    "\tinstances_count = 0\n",
    "\n",
    "\t# costruttore\n",
    "\tdef __init__ (self, width, height):\n",
    "\t\tRectangle.instances_count += 1\n",
    "\t\tself.width = width\n",
    "\t\tself.height = height\n",
    "\n",
    "\t# metodo statico\n",
    "\t@staticmethod\n",
    "\tdef square(side):\n",
    "\t\treturn Rectangle(side, side)\n",
    "\n",
    "\t# metodi dell'istanza\n",
    "\tdef perimeter(self):\n",
    "\t\treturn (self.width + self.height) * 2\n",
    "\n",
    "\tdef area(self):\n",
    "\t\treturn self.width * self.height"
   ]
  },
  {
   "cell_type": "code",
   "execution_count": null,
   "metadata": {},
   "outputs": [
    {
     "name": "stdout",
     "output_type": "stream",
     "text": [
      "30\n",
      "50\n",
      "25\n"
     ]
    }
   ],
   "source": [
    "r = Rectangle(10, 5)\n",
    "print(r.perimeter())\n",
    "print(r.area())\n",
    "\n",
    "s = Rectangle.square(5)\n",
    "print(s.area())"
   ]
  },
  {
   "cell_type": "code",
   "execution_count": 12,
   "metadata": {},
   "outputs": [
    {
     "name": "stdout",
     "output_type": "stream",
     "text": [
      "2\n"
     ]
    }
   ],
   "source": [
    "print(Rectangle.instances_count)"
   ]
  },
  {
   "cell_type": "code",
   "execution_count": null,
   "metadata": {},
   "outputs": [],
   "source": [
    "# Erediterierà multipla\n",
    "class A:\n",
    "    def show(self):\n",
    "        print(\"A.show() called\")\n",
    "\n",
    "class B(A):\n",
    "    def show(self):\n",
    "        print(\"B.show() called\")\n",
    "        super().show()  # Calls A's show()\n",
    "\n",
    "class C(A):\n",
    "    def show(self):\n",
    "        print(\"C.show() called\")\n",
    "        super().show()  # Calls A's show()\n",
    "\n",
    "class D(B, C):\n",
    "    def show(self):\n",
    "        print(\"D.show() called\")\n",
    "        super().show() \n",
    "\n",
    "print(D.mro())\n",
    "\n",
    "d = D()\n",
    "d.show()"
   ]
  },
  {
   "cell_type": "code",
   "execution_count": 24,
   "metadata": {},
   "outputs": [
    {
     "name": "stdout",
     "output_type": "stream",
     "text": [
      "[<class '__main__.D'>, <class '__main__.B'>, <class '__main__.C'>, <class '__main__.A'>, <class 'object'>]\n",
      "Bypss super\n",
      "B.show() called\n",
      "A.show() called\n",
      "C.show() called\n",
      "A.show() called\n"
     ]
    }
   ],
   "source": [
    "# Erediterietà multiple con risoluzione esplicita dei clash\n",
    "class A:\n",
    "    def show(self):\n",
    "        print(\"A.show() called\")\n",
    "\n",
    "class B(A):\n",
    "    def show(self):\n",
    "        print(\"B.show() called\")\n",
    "        A.show(self)\n",
    "\n",
    "class C(A):\n",
    "    def show(self):\n",
    "        print(\"C.show() called\")\n",
    "        A.show(self)\n",
    "\n",
    "class D(B, C):\n",
    "    def show(self):\n",
    "        print(\"Bypss super\")\n",
    "        B.show(self)\n",
    "        C.show(self)\n",
    "\n",
    "print(D.mro())\n",
    "\n",
    "d = D()\n",
    "d.show()"
   ]
  }
 ],
 "metadata": {
  "kernelspec": {
   "display_name": "Python 3",
   "language": "python",
   "name": "python3"
  },
  "language_info": {
   "codemirror_mode": {
    "name": "ipython",
    "version": 3
   },
   "file_extension": ".py",
   "mimetype": "text/x-python",
   "name": "python",
   "nbconvert_exporter": "python",
   "pygments_lexer": "ipython3",
   "version": "3.13.0"
  }
 },
 "nbformat": 4,
 "nbformat_minor": 2
}
