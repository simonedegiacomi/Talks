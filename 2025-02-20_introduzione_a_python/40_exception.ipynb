{
 "cells": [
  {
   "cell_type": "code",
   "execution_count": 3,
   "metadata": {},
   "outputs": [],
   "source": [
    "class OperazioneNonPermesa(Exception):\n",
    "\tdef __init__(self, op):\n",
    "\t\tsuper().__init__(f\"Operazione ‘{op}’ non permessa\")\n",
    "\n",
    "def esegui_operazione(op, is_admin):\n",
    "\tif op is None or op == \"\":\n",
    "\t\traise ValueError(\"operazione non valida\")\n",
    "\telif not is_admin:\n",
    "\t\traise OperazioneNonPermesa(op)\n"
   ]
  },
  {
   "cell_type": "code",
   "execution_count": null,
   "metadata": {},
   "outputs": [],
   "source": [
    "esegui_operazione(\"\", False)"
   ]
  },
  {
   "cell_type": "code",
   "execution_count": 4,
   "metadata": {},
   "outputs": [
    {
     "ename": "OperazioneNonPermesa",
     "evalue": "Operazione ‘elimina’ non permessa",
     "output_type": "error",
     "traceback": [
      "\u001b[0;31m---------------------------------------------------------------------------\u001b[0m",
      "\u001b[0;31mOperazioneNonPermesa\u001b[0m                      Traceback (most recent call last)",
      "Cell \u001b[0;32mIn[4], line 1\u001b[0m\n\u001b[0;32m----> 1\u001b[0m \u001b[43mesegui_operazione\u001b[49m\u001b[43m(\u001b[49m\u001b[38;5;124;43m\"\u001b[39;49m\u001b[38;5;124;43melimina\u001b[39;49m\u001b[38;5;124;43m\"\u001b[39;49m\u001b[43m,\u001b[49m\u001b[43m \u001b[49m\u001b[38;5;28;43;01mFalse\u001b[39;49;00m\u001b[43m)\u001b[49m\n",
      "Cell \u001b[0;32mIn[3], line 9\u001b[0m, in \u001b[0;36mesegui_operazione\u001b[0;34m(op, is_admin)\u001b[0m\n\u001b[1;32m      7\u001b[0m \t\u001b[38;5;28;01mraise\u001b[39;00m \u001b[38;5;167;01mValueError\u001b[39;00m(\u001b[38;5;124m\"\u001b[39m\u001b[38;5;124moperazione non valida\u001b[39m\u001b[38;5;124m\"\u001b[39m)\n\u001b[1;32m      8\u001b[0m \u001b[38;5;28;01melif\u001b[39;00m \u001b[38;5;129;01mnot\u001b[39;00m is_admin:\n\u001b[0;32m----> 9\u001b[0m \t\u001b[38;5;28;01mraise\u001b[39;00m OperazioneNonPermesa(op)\n",
      "\u001b[0;31mOperazioneNonPermesa\u001b[0m: Operazione ‘elimina’ non permessa"
     ]
    }
   ],
   "source": [
    "esegui_operazione(\"elimina\", False)"
   ]
  }
 ],
 "metadata": {
  "kernelspec": {
   "display_name": "Python 3",
   "language": "python",
   "name": "python3"
  },
  "language_info": {
   "codemirror_mode": {
    "name": "ipython",
    "version": 3
   },
   "file_extension": ".py",
   "mimetype": "text/x-python",
   "name": "python",
   "nbconvert_exporter": "python",
   "pygments_lexer": "ipython3",
   "version": "3.13.0"
  }
 },
 "nbformat": 4,
 "nbformat_minor": 2
}
